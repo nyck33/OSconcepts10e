{
 "cells": [
  {
   "cell_type": "code",
   "execution_count": 1,
   "metadata": {},
   "outputs": [
    {
     "name": "stderr",
     "output_type": "stream",
     "text": [
      "[C kernel] GCC exited with code 1, the executable will not be executed"
     ]
    }
   ],
   "source": [
    "from IPython.core.display import display, HTML\n",
    "display(HTML(\"<style>.container { width:100% !important; }</style>\"))"
   ]
  },
  {
   "cell_type": "markdown",
   "metadata": {},
   "source": [
    "## Chapter 3"
   ]
  },
  {
   "cell_type": "code",
   "execution_count": 12,
   "metadata": {},
   "outputs": [
    {
     "name": "stdout",
     "output_type": "stream",
     "text": [
      "in 1\n",
      "in 2\n",
      "in 3\n",
      "in 4\n",
      "in 5\n",
      "in 6\n",
      "in 7\n",
      "in 8\n",
      "in 9\n",
      "in 0\n",
      "buffer is full\n",
      "buffer[0]: 9\n",
      "buffer[1]: 9\n",
      "buffer[2]: 9\n",
      "buffer[3]: 9\n",
      "buffer[4]: 9\n",
      "buffer[5]: 9\n",
      "buffer[6]: 9\n",
      "buffer[7]: 9\n",
      "buffer[8]: 9\n",
      "buffer[9]: 9\n"
     ]
    }
   ],
   "source": [
    "/*we enabled the buffer to hold BUFFER_SIZE elements*/\n",
    "\n",
    "#include <stdio.h>\n",
    "#define BUFFER_SIZE 10\n",
    "\n",
    "int main(){\n",
    "    int item=9;\n",
    "    int buffer[BUFFER_SIZE];\n",
    "    int in = 0;\n",
    "    int out = 0;\n",
    "\n",
    "    int produced=0;\n",
    "    int consumed=0;\n",
    "    int count=0;\n",
    "    int j=0;\n",
    "    //producer \n",
    "    while(count<11){\n",
    "        \n",
    "        //do nothing\n",
    "        buffer[in] = item;\n",
    "        in = (in+1) % BUFFER_SIZE;\n",
    "        printf(\"in %d\\n\", in);\n",
    "\n",
    "        /*produce item */\n",
    "        //changing (in+1) to (in) and moved conditional below the filling routine\n",
    "        if(((in) % BUFFER_SIZE)==out){\n",
    "            printf(\"buffer is full\\n\");\n",
    "            for(j=0; j<BUFFER_SIZE; j++){\n",
    "                printf(\"buffer[%d]: %d\\n\", j, buffer[j]);\n",
    "            }\n",
    "            return 0;\n",
    "        }\n",
    "\n",
    "        count++;\n",
    "    }\n",
    "          \n",
    "    return 0;\n",
    "}"
   ]
  },
  {
   "cell_type": "code",
   "execution_count": null,
   "metadata": {},
   "outputs": [],
   "source": []
  },
  {
   "cell_type": "code",
   "execution_count": null,
   "metadata": {},
   "outputs": [],
   "source": []
  }
 ],
 "metadata": {
  "kernelspec": {
   "display_name": "C",
   "language": "c",
   "name": "c"
  },
  "language_info": {
   "file_extension": ".c",
   "mimetype": "text/plain",
   "name": "c"
  }
 },
 "nbformat": 4,
 "nbformat_minor": 2
}
